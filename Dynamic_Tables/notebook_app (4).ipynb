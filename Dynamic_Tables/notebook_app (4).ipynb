{
 "metadata": {
  "kernelspec": {
   "display_name": "Streamlit Notebook",
   "name": "streamlit"
  }
 },
 "nbformat_minor": 5,
 "nbformat": 4,
 "cells": [
  {
   "cell_type": "markdown",
   "id": "6b236dba-088c-42ab-ae5a-29eb9d84c0b4",
   "metadata": {
    "name": "cell30",
    "collapsed": false
   },
   "source": "# 1) Overview and sample data setup"
  },
  {
   "cell_type": "code",
   "id": "8d50cbf4-0c8d-4950-86cb-114990437ac9",
   "metadata": {
    "language": "sql",
    "name": "cell2"
   },
   "source": "CREATE WAREHOUSE XSMALL_WH \nWAREHOUSE_TYPE = STANDARD\n  WAREHOUSE_SIZE = XSMALL\n  AUTO_SUSPEND = 300\n  AUTO_RESUME = TRUE;",
   "execution_count": null,
   "outputs": []
  },
  {
   "cell_type": "code",
   "id": "c695373e-ac74-4b62-a1f1-08206cbd5c81",
   "metadata": {
    "language": "sql",
    "name": "cell3"
   },
   "source": "create or replace function gen_cust_info(num_records number)\nreturns table (custid number(10), cname varchar(100), spendlimit number(10,2))\nlanguage python\nruntime_version=3.8\nhandler='CustTab'\npackages = ('Faker')\nas $$\nfrom faker import Faker\nimport random\n\nfake = Faker()\n# Generate a list of customers  \n\nclass CustTab:\n    # Generate multiple customer records\n    def process(self, num_records):\n        customer_id = 1000 # Starting customer ID                 \n        for _ in range(num_records):\n            custid = customer_id + 1\n            cname = fake.name()\n            spendlimit = round(random.uniform(1000, 10000),2)\n            customer_id += 1\n            yield (custid,cname,spendlimit)\n\n$$;\n\ncreate or replace table cust_info as select * from table(gen_cust_info(1000)) order by 1;",
   "execution_count": null,
   "outputs": []
  },
  {
   "cell_type": "code",
   "id": "821af71b-3973-49d9-9772-c4464fb69262",
   "metadata": {
    "language": "sql",
    "name": "cell1"
   },
   "outputs": [],
   "source": "create or replace function gen_cust_purchase(num_records number,ndays number)\nreturns table (custid number(10), purchase variant)\nlanguage python\nruntime_version=3.8\nhandler='genCustPurchase'\npackages = ('Faker')\nas $$\nfrom faker import Faker\nimport random\nfrom datetime import datetime, timedelta\n\nfake = Faker()\n\nclass genCustPurchase:\n    # Generate multiple customer purchase records\n    def process(self, num_records,ndays):       \n        for _ in range(num_records):\n            c_id = fake.random_int(min=1001, max=1999)\n            \n            #print(c_id)\n            customer_purchase = {\n                'custid': c_id,\n                'purchased': []\n            }\n            # Get the current date\n            current_date = datetime.now()\n            \n            # Calculate the maximum date (days from now)\n            min_date = current_date - timedelta(days=ndays)\n            \n            # Generate a random date within the date range\n            pdate = fake.date_between_dates(min_date,current_date)\n            \n            purchase = {\n                'prodid': fake.random_int(min=101, max=199),\n                'quantity': fake.random_int(min=1, max=5),\n                'purchase_amount': round(random.uniform(10, 1000),2),\n                'purchase_date': pdate\n            }\n            customer_purchase['purchased'].append(purchase)\n            \n            #customer_purchases.append(customer_purchase)\n            yield (c_id,purchase)\n\n$$;\n\n-- Create table and insert records \ncreate or replace table salesdata as select * from table(gen_cust_purchase(10000,10));",
   "execution_count": null
  },
  {
   "cell_type": "code",
   "id": "188b95cf-945f-4e9b-a24c-20d260130d77",
   "metadata": {
    "language": "sql",
    "name": "cell6"
   },
   "outputs": [],
   "source": "create or replace function gen_prod_inv(num_records number)\nreturns table (pid number(10), pname varchar(100), stock number(10,2), stockdate date)\nlanguage python\nruntime_version=3.8\nhandler='ProdTab'\npackages = ('Faker')\nas $$\nfrom faker import Faker\nimport random\nfrom datetime import datetime, timedelta\nfake = Faker()\n\nclass ProdTab:\n    # Generate multiple product records\n    def process(self, num_records):\n        product_id = 100 # Starting customer ID                 \n        for _ in range(num_records):\n            pid = product_id + 1\n            pname = fake.catch_phrase()\n            stock = round(random.uniform(500, 1000),0)\n            # Get the current date\n            current_date = datetime.now()\n            \n            # Calculate the maximum date (3 months from now)\n            min_date = current_date - timedelta(days=90)\n            \n            # Generate a random date within the date range\n            stockdate = fake.date_between_dates(min_date,current_date)\n\n            product_id += 1\n            yield (pid,pname,stock,stockdate)\n\n$$;\n\ncreate or replace table prod_stock_inv as select * from table(gen_prod_inv(100)) order by 1;",
   "execution_count": null
  },
  {
   "cell_type": "code",
   "id": "4112e613-1bc5-49da-85a0-38100e8690e9",
   "metadata": {
    "language": "sql",
    "name": "cell4"
   },
   "outputs": [],
   "source": "-- customer information table, each customer has spending limits\nselect * from cust_info limit 10;\n",
   "execution_count": null
  },
  {
   "cell_type": "code",
   "id": "bfff6013-4918-4264-8308-9df8b7a3fefa",
   "metadata": {
    "language": "sql",
    "name": "cell5"
   },
   "outputs": [],
   "source": "-- product stock table, each product has stock level from fulfilment day\n\nselect * from prod_stock_inv limit 10;",
   "execution_count": null
  },
  {
   "cell_type": "code",
   "id": "82d05d35-f2b4-4915-b1e4-f2c324d37368",
   "metadata": {
    "language": "sql",
    "name": "cell7"
   },
   "outputs": [],
   "source": "-- sales data for products purchsaed online by various customers\nselect * from salesdata limit 10;",
   "execution_count": null
  },
  {
   "cell_type": "markdown",
   "id": "0d987e67-75c1-4dc7-9d8d-decc0fae30b3",
   "metadata": {
    "name": "cell31",
    "collapsed": false
   },
   "source": "# 2) Build data pipeline using Dynamic Tables\n\n![](https://quickstarts.snowflake.com/guide/getting_started_with_dynamic_tables/img/6ec72077ce221d8e.jpg)"
  },
  {
   "cell_type": "code",
   "id": "3ba0e4bf-9c84-492e-a0f3-96e0de1281ce",
   "metadata": {
    "language": "sql",
    "name": "cell8"
   },
   "outputs": [],
   "source": "USE SCHEMA DEMO.DT_DEMO;\n\nCREATE OR REPLACE DYNAMIC TABLE customer_sales_data_history\n    LAG='DOWNSTREAM'\n    WAREHOUSE=XSMALL_WH\nAS\nselect \n    s.custid as customer_id,\n    c.cname as customer_name,\n    s.purchase:\"prodid\"::number(5) as product_id,\n    s.purchase:\"purchase_amount\"::number(10) as saleprice,\n    s.purchase:\"quantity\"::number(5) as quantity,\n    s.purchase:\"purchase_date\"::date as salesdate\nfrom\n    cust_info c inner join salesdata s on c.custid = s.custid\n;",
   "execution_count": null
  },
  {
   "cell_type": "code",
   "id": "db2eb700-dd6d-40ba-8845-6d7aa5bc6ae1",
   "metadata": {
    "language": "sql",
    "name": "cell9"
   },
   "outputs": [],
   "source": "-- quick sanity check\nselect * from customer_sales_data_history limit 10;\n",
   "execution_count": null
  },
  {
   "cell_type": "code",
   "id": "9a83d6ee-e2fd-4163-aa28-27dc4d544615",
   "metadata": {
    "language": "sql",
    "name": "cell10"
   },
   "outputs": [],
   "source": "select count(*) from customer_sales_data_history;",
   "execution_count": null
  },
  {
   "cell_type": "code",
   "id": "19e65c26-837e-4e17-931e-1a9081876160",
   "metadata": {
    "language": "sql",
    "name": "cell11"
   },
   "outputs": [],
   "source": "CREATE OR REPLACE DYNAMIC TABLE salesreport\n    LAG = '1 MINUTE'\n    WAREHOUSE=XSMALL_WH\nAS\n    Select\n        t1.customer_id,\n        t1.customer_name, \n        t1.product_id,\n        p.pname as product_name,\n        t1.saleprice,\n        t1.quantity,\n        (t1.saleprice/t1.quantity) as unitsalesprice,\n        t1.salesdate as CreationTime,\n        customer_id || '-' || t1.product_id  || '-' || t1.salesdate AS CUSTOMER_SK,\n        LEAD(CreationTime) OVER (PARTITION BY t1.customer_id ORDER BY CreationTime ASC) AS END_TIME\n    from \n        customer_sales_data_history t1 inner join prod_stock_inv p \n        on t1.product_id = p.pid\n       \n;",
   "execution_count": null
  },
  {
   "cell_type": "code",
   "id": "1078bd58-1e48-47a5-91ea-cb39ce366429",
   "metadata": {
    "language": "sql",
    "name": "cell12"
   },
   "outputs": [],
   "source": "select * from salesreport limit 10;",
   "execution_count": null
  },
  {
   "cell_type": "code",
   "id": "be737532-3a5b-4311-bd81-f8baef1dbc7e",
   "metadata": {
    "language": "sql",
    "name": "cell13"
   },
   "outputs": [],
   "source": "select count(*) from salesreport;",
   "execution_count": null
  },
  {
   "cell_type": "code",
   "id": "d774b798-d9a0-4b82-9ef3-fda66812a811",
   "metadata": {
    "language": "sql",
    "name": "cell14"
   },
   "outputs": [],
   "source": "-- Add new records\ninsert into salesdata select * from table(gen_cust_purchase(10000,2));",
   "execution_count": null
  },
  {
   "cell_type": "code",
   "id": "82bcc21c-07f7-4f9c-aa7a-57e6ef053e2f",
   "metadata": {
    "language": "sql",
    "name": "cell15"
   },
   "outputs": [],
   "source": "-- Check raw base table\nselect count(*) from salesdata;",
   "execution_count": null
  },
  {
   "cell_type": "code",
   "id": "cabeee40-e0bb-4cae-bb7a-c0ac86753668",
   "metadata": {
    "language": "sql",
    "name": "cell16"
   },
   "outputs": [],
   "source": "-- Check Dynamic Tables after a minute\nselect count(*) from customer_sales_data_history;",
   "execution_count": null
  },
  {
   "cell_type": "code",
   "id": "94cf53bc-11a9-4368-a225-7d7a0105e14e",
   "metadata": {
    "language": "sql",
    "name": "cell17"
   },
   "outputs": [],
   "source": "-- Check Dynamic Tables after a minute\nselect count(*) from salesreport;",
   "execution_count": null
  },
  {
   "cell_type": "markdown",
   "id": "7748cf0e-4294-4d86-a18f-8d39cb594c14",
   "metadata": {
    "name": "cell18",
    "collapsed": false
   },
   "source": "![](https://quickstarts.snowflake.com/guide/getting_started_with_dynamic_tables/img/da92204144f84f55.jpg)"
  },
  {
   "cell_type": "markdown",
   "id": "08860b2d-4705-4718-8e26-4fd3eed42807",
   "metadata": {
    "name": "cell32",
    "collapsed": false
   },
   "source": "# 3) Use case: Using Snowpark UDTF in Dynamic table"
  },
  {
   "cell_type": "code",
   "id": "c5f3c360-1203-489e-883b-cedee0391ae3",
   "metadata": {
    "language": "sql",
    "name": "cell19"
   },
   "outputs": [],
   "source": "USE SCHEMA DEMO.DT_DEMO;\n\nCREATE OR REPLACE FUNCTION sum_table (INPUT_NUMBER number)\n  returns TABLE (running_total number)\n  language python\n  runtime_version = '3.8'\n  handler = 'gen_sum_table'\nas\n$$\n\n# Define handler class\nclass gen_sum_table :\n\n  ## Define __init__ method ro initilize the variable\n  def __init__(self) :    \n    self._running_sum = 0\n  \n  ## Define process method\n  def process(self, input_number: float) :\n    # Increment running sum with data from the input row\n    new_total = self._running_sum + input_number\n    self._running_sum = new_total\n\n    yield(new_total,)\n  \n$$\n;",
   "execution_count": null
  },
  {
   "cell_type": "code",
   "id": "98395bc8-2ae5-4960-b0aa-fe0447eb7c14",
   "metadata": {
    "language": "sql",
    "name": "cell20"
   },
   "outputs": [],
   "source": "CREATE OR REPLACE DYNAMIC TABLE cumulative_purchase\n    LAG = '1 MINUTE'\n    WAREHOUSE=XSMALL_WH\nAS\n    select \n        month(creationtime) monthNum,\n        year(creationtime) yearNum,\n        customer_id, \n        saleprice,\n        running_total \n    from \n        salesreport,\n        table(sum_table(saleprice) over (partition by creationtime,customer_id order by creationtime, customer_id))\n       \n;",
   "execution_count": null
  },
  {
   "cell_type": "code",
   "id": "d8035445-bbd5-4345-956e-ae90d54e4495",
   "metadata": {
    "language": "sql",
    "name": "cell21"
   },
   "outputs": [],
   "source": "select * from  cumulative_purchase limit 10;",
   "execution_count": null
  },
  {
   "cell_type": "markdown",
   "id": "ad9cae8a-5e38-410b-9378-1e2dfd2561a6",
   "metadata": {
    "name": "cell33"
   },
   "source": "# 4) Use case: Data validation using Dynamic table"
  },
  {
   "cell_type": "code",
   "id": "45e8745b-ff88-4a14-b6ab-661eff612d45",
   "metadata": {
    "language": "sql",
    "name": "cell22"
   },
   "outputs": [],
   "source": "USE SCHEMA DEMO.DT_DEMO;\n\nCREATE OR REPLACE DYNAMIC TABLE PROD_INV_ALERT\n    LAG = '1 MINUTE'\n    WAREHOUSE=XSMALL_WH\nAS\n    SELECT \n        S.PRODUCT_ID, \n        S.PRODUCT_NAME,CREATIONTIME AS LATEST_SALES_DATE,\n        STOCK AS BEGINING_STOCK,\n        SUM(S.QUANTITY) OVER (PARTITION BY S.PRODUCT_ID ORDER BY CREATIONTIME) TOTALUNITSOLD, \n        (STOCK - TOTALUNITSOLD) AS UNITSLEFT,\n        ROUND(((STOCK-TOTALUNITSOLD)/STOCK) *100,2) PERCENT_UNITLEFT,\n        CURRENT_TIMESTAMP() AS ROWCREATIONTIME\n    FROM SALESREPORT S JOIN PROD_STOCK_INV ON PRODUCT_ID = PID\n    QUALIFY ROW_NUMBER() OVER (PARTITION BY PRODUCT_ID ORDER BY CREATIONTIME DESC) = 1\n;",
   "execution_count": null
  },
  {
   "cell_type": "code",
   "id": "ca8e9deb-4dbb-4f09-86b4-0ff8b871fdaf",
   "metadata": {
    "language": "sql",
    "name": "cell23"
   },
   "outputs": [],
   "source": "-- check products with low inventory and alert\nselect * from prod_inv_alert where percent_unitleft < 10;",
   "execution_count": null
  },
  {
   "cell_type": "code",
   "id": "3cc0fdda-e310-486e-bfd5-58859a4b3786",
   "metadata": {
    "language": "sql",
    "name": "cell24"
   },
   "outputs": [],
   "source": "CREATE NOTIFICATION INTEGRATION IF NOT EXISTS\n    notification_emailer\n    TYPE=EMAIL\n    ENABLED=TRUE\n    ALLOWED_RECIPIENTS=('first.last@company.com')\n    COMMENT = 'email integration to update on low product inventory levels'\n;\n\nCREATE OR REPLACE ALERT alert_low_inv\n  WAREHOUSE = XSMALL_WH\n  SCHEDULE = '30 MINUTE'\n  IF (EXISTS (\n      SELECT *\n      FROM prod_inv_alert\n      WHERE percent_unitleft < 10 and ROWCREATIONTIME > SNOWFLAKE.ALERT.LAST_SUCCESSFUL_SCHEDULED_TIME()\n  ))\n  THEN CALL SYSTEM$SEND_EMAIL(\n                'notification_emailer', -- notification integration to use\n                'first.last@company.com', -- Email\n                'Email Alert: Low Inventory of products', -- Subject\n                'Inventory running low for certain products. Please check the inventory report in Snowflake table prod_inv_alert' -- Body of email\n);\n\n-- Alerts are pause by default, so let's resume it first\nALTER ALERT alert_low_inv RESUME;\n\n-- Add new records\ninsert into salesdata select * from table(gen_cust_purchase(10000,2));",
   "execution_count": null
  },
  {
   "cell_type": "code",
   "id": "8c522732-50ae-44ca-8780-2d677fe5fcf1",
   "metadata": {
    "language": "sql",
    "name": "cell25"
   },
   "outputs": [],
   "source": "-- Monitor alerts in detail\nSHOW ALERTS;\n\nSELECT *\nFROM\n  TABLE(INFORMATION_SCHEMA.ALERT_HISTORY(\n    SCHEDULED_TIME_RANGE_START\n      =>dateadd('hour',-1,current_timestamp())))\nWHERE\n    NAME = 'ALERT_LOW_INV'\nORDER BY SCHEDULED_TIME DESC;\n\n-- Suspend Alerts \n-- Important step to suspend alert and stop consuming the warehouse credit\nALTER ALERT alert_low_inv SUSPEND;",
   "execution_count": null
  },
  {
   "cell_type": "markdown",
   "id": "a5afe42a-9439-4996-9cf9-493ad3058aef",
   "metadata": {
    "name": "cell34",
    "collapsed": false
   },
   "source": "# 5)  Monitor Dynamic Tables: Cost, DAG and Dashboard"
  },
  {
   "cell_type": "code",
   "id": "7c31b402-33bb-4702-8acf-d098bf839631",
   "metadata": {
    "language": "sql",
    "name": "cell26"
   },
   "outputs": [],
   "source": "SELECT * \nFROM \n    TABLE(INFORMATION_SCHEMA.DYNAMIC_TABLE_REFRESH_HISTORY())\nWHERE \n    NAME IN ('SALESREPORT','CUSTOMER_SALES_DATA_HISTORY','PROD_INV_ALERT','CUMULATIVE_PURCHASE')\n    -- AND REFRESH_ACTION != 'NO_DATA'\nORDER BY \n    DATA_TIMESTAMP DESC, REFRESH_END_TIME DESC LIMIT 10;",
   "execution_count": null
  },
  {
   "cell_type": "markdown",
   "id": "c5406980-ec93-4ea6-9230-baaf8f6b6889",
   "metadata": {
    "name": "cell27",
    "collapsed": false
   },
   "source": "![](https://quickstarts.snowflake.com/guide/getting_started_with_dynamic_tables/img/4dd38555da4371c6.jpeg)"
  },
  {
   "cell_type": "markdown",
   "id": "4d839ab5-4d7a-4925-8a19-a87c6f345e60",
   "metadata": {
    "name": "cell28",
    "collapsed": false
   },
   "source": "![](https://quickstarts.snowflake.com/guide/getting_started_with_dynamic_tables/img/da92204144f84f55.jpg)"
  },
  {
   "cell_type": "code",
   "id": "a2a1d3b7-1506-40bc-8dd2-0b3789476166",
   "metadata": {
    "language": "sql",
    "name": "cell29"
   },
   "outputs": [],
   "source": "-- Resume the data pipeline\nalter dynamic table customer_sales_data_history RESUME;\nalter dynamic table salesreport RESUME;\nalter dynamic table prod_inv_alert RESUME;\n\n-- Suspend the data pipeline\nalter dynamic table customer_sales_data_history SUSPEND;\nalter dynamic table salesreport SUSPEND;\nalter dynamic table prod_inv_alert SUSPEND;",
   "execution_count": null
  }
 ]
}